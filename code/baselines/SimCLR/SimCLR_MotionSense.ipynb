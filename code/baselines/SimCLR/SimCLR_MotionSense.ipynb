{
  "cells": [
    {
      "cell_type": "markdown",
      "metadata": {
        "id": "KPaf3-1MP53I"
      },
      "source": [
        "# SimCLR Contrastive Training for Human Activity Recognition Tutorial"
      ]
    },
    {
      "cell_type": "code",
      "execution_count": 1,
      "metadata": {
        "id": "5ko1vFAZP53N"
      },
      "outputs": [],
      "source": [
        "# Author: C. I. Tang\n",
        "# Based on work of Tang et al.: https://arxiv.org/abs/2011.11542\n",
        "# Contact: cit27@cl.cam.ac.uk\n",
        "# License: GNU General Public License v3.0\n",
        "\n",
        "%load_ext autoreload\n",
        "%autoreload 2"
      ]
    },
    {
      "cell_type": "markdown",
      "metadata": {
        "id": "G46-v0cuP53N"
      },
      "source": [
        "## Imports"
      ]
    },
    {
      "cell_type": "code",
      "execution_count": 2,
      "metadata": {
        "id": "W-YuikCiP53N"
      },
      "outputs": [
        {
          "name": "stderr",
          "output_type": "stream",
          "text": [
            "2023-06-15 20:41:58.621978: I tensorflow/core/platform/cpu_feature_guard.cc:193] This TensorFlow binary is optimized with oneAPI Deep Neural Network Library (oneDNN) to use the following CPU instructions in performance-critical operations:  SSE4.1 SSE4.2 AVX AVX2 FMA\n",
            "To enable them in other operations, rebuild TensorFlow with the appropriate compiler flags.\n"
          ]
        }
      ],
      "source": [
        "import os\n",
        "import pickle\n",
        "import scipy\n",
        "import datetime\n",
        "import numpy as np\n",
        "import tensorflow as tf\n",
        "\n",
        "seed = 1\n",
        "tf.random.set_seed(seed)\n",
        "np.random.seed(seed)"
      ]
    },
    {
      "cell_type": "code",
      "execution_count": 3,
      "metadata": {
        "id": "5LtrK5xXP53O"
      },
      "outputs": [],
      "source": [
        "# Libraries for plotting\n",
        "import matplotlib as mpl\n",
        "import matplotlib.pyplot as plt\n",
        "import seaborn as sns\n",
        "import sklearn.manifold\n",
        "\n",
        "sns.set_context('poster')"
      ]
    },
    {
      "cell_type": "code",
      "execution_count": 4,
      "metadata": {
        "id": "dwFHmiuFP53O"
      },
      "outputs": [],
      "source": [
        "# Library scripts\n",
        "import raw_data_processing\n",
        "import data_pre_processing   \n",
        "import simclr_models\n",
        "import simclr_utitlities\n",
        "import transformations"
      ]
    },
    {
      "cell_type": "code",
      "execution_count": 8,
      "metadata": {},
      "outputs": [
        {
          "name": "stdout",
          "output_type": "stream",
          "text": [
            "test_run/\n"
          ]
        }
      ],
      "source": [
        "working_directory = 'test_run/'\n",
        "print(working_directory)"
      ]
    },
    {
      "cell_type": "code",
      "execution_count": 9,
      "metadata": {
        "id": "A8MHhQrfP53O"
      },
      "outputs": [],
      "source": [
        "dataset_save_path = working_directory\n",
        "if not os.path.exists(working_directory):\n",
        "    os.mkdir(working_directory)\n"
      ]
    },
    {
      "cell_type": "markdown",
      "metadata": {
        "id": "jxwMwhqeP53P"
      },
      "source": [
        "## MotionSense Dataset\n",
        "\n",
        "In this section, the MotionSense dataset will be downloaded and parsed. The results will then be saved in a python pickle file.\n",
        "(Note: This section only needs to be run once)\n",
        "\n",
        "Citation:\n",
        "```\n",
        "@inproceedings{Malekzadeh:2019:MSD:3302505.3310068,\n",
        "author = {Malekzadeh, Mohammad and Clegg, Richard G. and Cavallaro, Andrea and Haddadi, Hamed},\n",
        "title = {Mobile Sensor Data Anonymization},\n",
        "booktitle = {Proceedings of the International Conference on Internet of Things Design and Implementation},\n",
        "series = {IoTDI '19},\n",
        "year = {2019},\n",
        "isbn = {978-1-4503-6283-2},\n",
        "location = {Montreal, Quebec, Canada},\n",
        "pages = {49--58},\n",
        "numpages = {10},\n",
        "url = {http://doi.acm.org/10.1145/3302505.3310068},\n",
        "doi = {10.1145/3302505.3310068},\n",
        "acmid = {3310068},\n",
        "publisher = {ACM},\n",
        "address = {New York, NY, USA},\n",
        "keywords = {adversarial training, deep learning, edge computing, sensor data privacy, time series analysis},\n",
        "}\n",
        "```"
      ]
    },
    {
      "cell_type": "markdown",
      "metadata": {
        "id": "4Pn7qJSyP53P"
      },
      "source": [
        "### Downloading & Unzipping"
      ]
    },
    {
      "cell_type": "code",
      "execution_count": 6,
      "metadata": {
        "id": "QTk1khZbP53P"
      },
      "outputs": [],
      "source": [
        "import requests\n",
        "import zipfile"
      ]
    },
    {
      "cell_type": "code",
      "execution_count": 9,
      "metadata": {
        "id": "vOpnh48_P53P"
      },
      "outputs": [],
      "source": [
        "#dataset_url = 'https://github.com/mmalekzadeh/motion-sense/blob/master/data/B_Accelerometer_data.zip?raw=true'\n",
        "\n",
        "#r = requests.get(dataset_url, allow_redirects=True)\n",
        "#with open(working_directory + 'B_Accelerometer_data.zip', 'wb') as f:\n",
        "#    f.write(r.content)"
      ]
    },
    {
      "cell_type": "code",
      "execution_count": 10,
      "metadata": {
        "id": "E6bX8R7oP53Q"
      },
      "outputs": [],
      "source": [
        "#with zipfile.ZipFile(working_directory + 'B_Accelerometer_data.zip', 'r') as zip_ref:\n",
        "#    zip_ref.extractall(working_directory)"
      ]
    },
    {
      "cell_type": "markdown",
      "metadata": {
        "id": "suWBmPPdP53Q"
      },
      "source": [
        "### Data Processing"
      ]
    },
    {
      "cell_type": "code",
      "execution_count": 10,
      "metadata": {
        "colab": {
          "base_uri": "https://localhost:8080/"
        },
        "id": "zSJKFFsUP53Q",
        "outputId": "bf1f9d9d-be85-4775-e43d-76348e8992e6"
      },
      "outputs": [
        {
          "name": "stdout",
          "output_type": "stream",
          "text": [
            "test_run/B_Accelerometer_data/dws_1\n",
            "test_run/C_Gyroscope_data/dws_1\n",
            "test_run/B_Accelerometer_data/dws_11\n",
            "test_run/C_Gyroscope_data/dws_11\n",
            "test_run/B_Accelerometer_data/dws_2\n",
            "test_run/C_Gyroscope_data/dws_2\n",
            "test_run/B_Accelerometer_data/jog_16\n",
            "test_run/C_Gyroscope_data/jog_16\n",
            "test_run/B_Accelerometer_data/jog_9\n",
            "test_run/C_Gyroscope_data/jog_9\n",
            "test_run/B_Accelerometer_data/sit_13\n",
            "test_run/C_Gyroscope_data/sit_13\n",
            "test_run/B_Accelerometer_data/sit_5\n",
            "test_run/C_Gyroscope_data/sit_5\n",
            "test_run/B_Accelerometer_data/std_14\n",
            "test_run/C_Gyroscope_data/std_14\n",
            "test_run/B_Accelerometer_data/std_6\n",
            "test_run/C_Gyroscope_data/std_6\n",
            "test_run/B_Accelerometer_data/ups_12\n",
            "test_run/C_Gyroscope_data/ups_12\n",
            "test_run/B_Accelerometer_data/ups_3\n",
            "test_run/C_Gyroscope_data/ups_3\n",
            "test_run/B_Accelerometer_data/ups_4\n",
            "test_run/C_Gyroscope_data/ups_4\n",
            "test_run/B_Accelerometer_data/wlk_15\n",
            "test_run/C_Gyroscope_data/wlk_15\n",
            "test_run/B_Accelerometer_data/wlk_7\n",
            "test_run/C_Gyroscope_data/wlk_7\n",
            "test_run/B_Accelerometer_data/wlk_8\n",
            "test_run/C_Gyroscope_data/wlk_8\n"
          ]
        }
      ],
      "source": [
        "accelerometer_data_folder_path = working_directory + 'B_Accelerometer_data/'\n",
        "user_datasets = raw_data_processing.process_motion_sense_accelerometer_files(accelerometer_data_folder_path)"
      ]
    },
    {
      "cell_type": "code",
      "execution_count": 12,
      "metadata": {
        "id": "lE_PlKn0P53R"
      },
      "outputs": [],
      "source": [
        "with open(working_directory + 'motion_sense_user_split.pkl', 'wb') as f:\n",
        "    pickle.dump({\n",
        "        'user_split': user_datasets,\n",
        "    }, f)"
      ]
    },
    {
      "cell_type": "markdown",
      "metadata": {
        "id": "eMHhVkPeP53R"
      },
      "source": [
        "## Pre-processing"
      ]
    },
    {
      "cell_type": "code",
      "execution_count": 13,
      "metadata": {
        "id": "V8oWxqFZP53R"
      },
      "outputs": [],
      "source": [
        "# Parameters\n",
        "window_size = 100\n",
        "input_shape = (window_size, 6)\n",
        "\n",
        "# Dataset Metadata\n",
        "transformation_multiple = 1\n",
        "dataset_name = 'motion_sense.pkl'\n",
        "dataset_name_user_split = 'motion_sense_user_split.pkl'\n",
        "\n",
        "label_list = ['null', 'sit', 'std', 'wlk', 'ups', 'dws', 'jog']\n",
        "label_list_full_name = ['null', 'sitting', 'standing', 'walking', 'walking upstairs', 'walking downstairs', 'jogging']\n",
        "has_null_class = True\n",
        "\n",
        "label_map = dict([(l, i) for i, l in enumerate(label_list)])\n",
        "\n",
        "output_shape = len(label_list)\n",
        "\n",
        "model_save_name = f\"motionsense_acc\"\n",
        "\n",
        "sampling_rate = 50.0\n",
        "unit_conversion = scipy.constants.g\n",
        "\n",
        "# a fixed user-split\n",
        "test_users_fixed = [1, 14, 19, 23, 6]\n",
        "def get_fixed_split_users(har_users):\n",
        "    # test_users = har_users[0::5]\n",
        "    test_users = test_users_fixed\n",
        "    train_users = [u for u in har_users if u not in test_users]\n",
        "    return (train_users, test_users)"
      ]
    },
    {
      "cell_type": "code",
      "execution_count": 14,
      "metadata": {
        "id": "pvQ1DV5vP53S"
      },
      "outputs": [],
      "source": [
        "with open(dataset_save_path + dataset_name_user_split, 'rb') as f:\n",
        "    dataset_dict = pickle.load(f)\n",
        "    user_datasets = dataset_dict['user_split']"
      ]
    },
    {
      "cell_type": "code",
      "execution_count": 15,
      "metadata": {
        "colab": {
          "base_uri": "https://localhost:8080/"
        },
        "id": "yl0jGEOFP53S",
        "outputId": "b6d10ab4-3ca1-4909-e5c5-59953dcc76ff"
      },
      "outputs": [
        {
          "name": "stdout",
          "output_type": "stream",
          "text": [
            "Testing: [1, 14, 19, 23, 6], Training: [10, 11, 12, 13, 15, 16, 17, 18, 2, 20, 21, 22, 24, 3, 4, 5, 7, 8, 9]\n"
          ]
        }
      ],
      "source": [
        "har_users = list(user_datasets.keys())\n",
        "train_users, test_users = get_fixed_split_users(har_users)\n",
        "print(f'Testing: {test_users}, Training: {train_users}')"
      ]
    },
    {
      "cell_type": "code",
      "execution_count": 16,
      "metadata": {},
      "outputs": [
        {
          "name": "stdout",
          "output_type": "stream",
          "text": [
            "'test_run/B_Accelerometer_data/wlk_8'\n",
            "'test_run/C_Gyroscope_data/wlk_8'\n"
          ]
        }
      ],
      "source": [
        "string = \"'test_run/B_Accelerometer_data/wlk_8'\"\n",
        "\n",
        "# replace all instances of 'r' (old) with 'e' (new)\n",
        "new_string = string.replace(\"B_Accelerometer_data\", \"C_Gyroscope_data\" )\n",
        "\n",
        "print(string)\n",
        "print(new_string)\n"
      ]
    },
    {
      "cell_type": "markdown",
      "metadata": {
        "id": "xlrlCcgmZE4e"
      },
      "source": [
        "Here we convert the original dataset into a windowed one, and split it into training, validation and testing sets."
      ]
    },
    {
      "cell_type": "code",
      "execution_count": 17,
      "metadata": {
        "colab": {
          "base_uri": "https://localhost:8080/"
        },
        "id": "DRdmCo0ZP53S",
        "outputId": "a5ed1259-c764-4d65-a696-bcc1d645153e"
      },
      "outputs": [
        {
          "name": "stderr",
          "output_type": "stream",
          "text": [
            "/home/elian.riveros/dl-13-elian/notebooks/workspaces/lstm-har/TFC-pretraining-1/code/baselines/SimCLR/data_pre_processing.py:56: FutureWarning: Unlike other reduction functions (e.g. `skew`, `kurtosis`), the default behavior of `mode` typically preserves the axis it acts along. In SciPy 1.11.0, this behavior will change: the default value of `keepdims` will become False, the `axis` over which the statistic is taken will be eliminated, and the value None will no longer be accepted. Set `keepdims` to True or False to avoid this warning.\n",
            "  return scipy.stats.mode(np_array)[0]\n"
          ]
        },
        {
          "name": "stdout",
          "output_type": "stream",
          "text": [
            "Test\n",
            "(array(['dws', 'jog', 'sit', 'std', 'ups', 'wlk'], dtype='<U3'), array([ 512,  569, 1463, 1371,  648, 1376]))\n",
            "(array([1, 2, 3, 4, 5, 6]), array([1463, 1371, 1376,  648,  512,  569]))\n",
            "-----------------\n",
            "Train\n",
            "(array(['dws', 'jog', 'sit', 'std', 'ups', 'wlk'], dtype='<U3'), array([2018, 2045, 5242, 4689, 2393, 5403]))\n",
            "(array([1, 2, 3, 4, 5, 6]), array([5242, 4689, 5403, 2393, 2018, 2045]))\n",
            "-----------------\n",
            "Training data shape: (17432, 100, 6)\n",
            "Validation data shape: (4358, 100, 6)\n",
            "Testing data shape: (5939, 100, 6)\n"
          ]
        }
      ],
      "source": [
        "np_train, np_val, np_test = data_pre_processing.pre_process_dataset_composite(\n",
        "    user_datasets=user_datasets,\n",
        "    label_map=label_map,\n",
        "    output_shape=output_shape,\n",
        "    train_users=train_users,\n",
        "    test_users=test_users,\n",
        "    window_size=window_size,\n",
        "    shift=window_size//2,\n",
        "    normalise_dataset=True,\n",
        "    verbose=1\n",
        ")"
      ]
    },
    {
      "cell_type": "markdown",
      "metadata": {
        "id": "3CfVMlOWZE4e"
      },
      "source": [
        "An alternative processing pipeline can be used to retain the user id as a feature and/or a label in the output dataset.\n",
        "\n",
        "Note: This is not used in the study, and thus is commented in this notebook."
      ]
    },
    {
      "cell_type": "code",
      "execution_count": null,
      "metadata": {
        "id": "HFjQWcfDZE4e",
        "outputId": "16d67569-f126-46ba-ced7-efc291d2b05a"
      },
      "outputs": [],
      "source": [
        "# user_datasets_processed = data_pre_processing.pre_process_dataset_composite_in_user_format(\n",
        "#     user_datasets=user_datasets,\n",
        "#     label_map=label_map,\n",
        "#     output_shape=output_shape,\n",
        "#     train_users=train_users,\n",
        "#     window_size=window_size,\n",
        "#     shift=window_size//2,\n",
        "#     normalise_dataset=True,\n",
        "#     verbose=1\n",
        "# )\n",
        "\n",
        "# user_datasets_with_user_ids, user_id_mapping = data_pre_processing.add_user_id_to_windowed_dataset(\n",
        "#     user_datasets_processed,\n",
        "#     encode_user_id=True,\n",
        "#     as_feature=True,\n",
        "#     as_label=False,\n",
        "#     verbose=1\n",
        "# )\n",
        "\n",
        "# train_x, train_y, test_x, test_y = data_pre_processing.combine_windowed_dataset(user_datasets_with_user_ids, train_users)\n",
        "# train_x_split, val_x_split, train_y_split, val_y_split = sklearn.model_selection.train_test_split(train_x, train_y, test_size=0.2, random_state=42)\n",
        "\n",
        "# np_train = (train_x_split, train_y_split)\n",
        "# np_val = (val_x_split, val_y_split)\n",
        "# np_test = (test_x, test_y)\n",
        "\n",
        "# print(\"Training data shape:\", train_x_split.shape)\n",
        "# print(\"Validation data shape:\", val_x_split.shape)\n",
        "# print(\"Testing data shape:\", test_x.shape)"
      ]
    },
    {
      "attachments": {},
      "cell_type": "markdown",
      "metadata": {},
      "source": [
        "## My dataset"
      ]
    },
    {
      "cell_type": "markdown",
      "metadata": {
        "id": "n6ekD_oFP53S"
      },
      "source": [
        "## SimCLR Training"
      ]
    },
    {
      "cell_type": "code",
      "execution_count": 18,
      "metadata": {
        "id": "0nliJ-GgP53T",
        "outputId": "bbbebdab-df95-4422-d81c-1c476327128d"
      },
      "outputs": [
        {
          "name": "stdout",
          "output_type": "stream",
          "text": [
            "0 <function rotation_transform_vectorized at 0x7fd3e14371f0>\n"
          ]
        }
      ],
      "source": [
        "batch_size = 512\n",
        "decay_steps = 1000\n",
        "epochs = 200\n",
        "temperature = 0.1\n",
        "transform_funcs = [\n",
        "    # transformations.scaling_transform_vectorized, # Use Scaling trasnformation\n",
        "    transformations.rotation_transform_vectorized # Use rotation trasnformation\n",
        "]\n",
        "transformation_function = simclr_utitlities.generate_composite_transform_function_simple(transform_funcs)\n",
        "\n",
        "# trasnformation_indices = [2] # Use rotation trasnformation only\n",
        "# trasnformation_indices = [1, 2] # Use Scaling and rotation trasnformation\n",
        "\n",
        "# trasnform_funcs_vectorized = [\n",
        "#     transformations.noise_transform_vectorized,\n",
        "#     transformations.scaling_transform_vectorized,\n",
        "#     transformations.rotation_transform_vectorized,\n",
        "#     transformations.negate_transform_vectorized,\n",
        "#     transformations.time_flip_transform_vectorized,\n",
        "#     transformations.time_segment_permutation_transform_improved,\n",
        "#     transformations.time_warp_transform_low_cost,\n",
        "#     transformations.channel_shuffle_transform_vectorized\n",
        "# ]\n",
        "# transform_funcs_names = ['noised', 'scaled', 'rotated', 'negated', 'time_flipped', 'permuted', 'time_warped', 'channel_shuffled']\n",
        "\n"
      ]
    },
    {
      "cell_type": "code",
      "execution_count": 20,
      "metadata": {},
      "outputs": [
        {
          "data": {
            "text/plain": [
              "(17432, 100, 6)"
            ]
          },
          "execution_count": 20,
          "metadata": {},
          "output_type": "execute_result"
        }
      ],
      "source": [
        "np_train[0].shape"
      ]
    },
    {
      "cell_type": "code",
      "execution_count": 26,
      "metadata": {},
      "outputs": [
        {
          "data": {
            "text/plain": [
              "(100, 6)"
            ]
          },
          "execution_count": 26,
          "metadata": {},
          "output_type": "execute_result"
        }
      ],
      "source": [
        "input_shape"
      ]
    },
    {
      "cell_type": "code",
      "execution_count": 24,
      "metadata": {
        "colab": {
          "base_uri": "https://localhost:8080/"
        },
        "id": "Vxk1iPzjP53T",
        "outputId": "b9a57028-4518-4e04-a23b-16dcaa001aeb"
      },
      "outputs": [],
      "source": [
        "start_time = datetime.datetime.now()\n",
        "start_time_str = start_time.strftime(\"%Y%m%d-%H%M%S\")\n",
        "tf.keras.backend.set_floatx('float32')\n",
        "\n",
        "lr_decayed_fn = tf.keras.experimental.CosineDecay(initial_learning_rate=0.1, decay_steps=decay_steps)\n",
        "optimizer = tf.keras.optimizers.SGD(lr_decayed_fn)\n",
        "# transformation_function = simclr_utitlities.generate_combined_transform_function(trasnform_funcs_vectorized, indices=trasnformation_indices)\n",
        "\n",
        "base_model = simclr_models.create_base_model(input_shape, model_name=\"base_model\")\n",
        "simclr_model = simclr_models.attach_simclr_head(base_model)"
      ]
    },
    {
      "cell_type": "code",
      "execution_count": 25,
      "metadata": {},
      "outputs": [
        {
          "name": "stdout",
          "output_type": "stream",
          "text": [
            "Model: \"base_model_simclr\"\n",
            "_________________________________________________________________\n",
            " Layer (type)                Output Shape              Param #   \n",
            "=================================================================\n",
            " input (InputLayer)          [(None, 100, 6)]          0         \n",
            "                                                                 \n",
            " conv1d_9 (Conv1D)           (None, 77, 32)            4640      \n",
            "                                                                 \n",
            " dropout_9 (Dropout)         (None, 77, 32)            0         \n",
            "                                                                 \n",
            " conv1d_10 (Conv1D)          (None, 62, 64)            32832     \n",
            "                                                                 \n",
            " dropout_10 (Dropout)        (None, 62, 64)            0         \n",
            "                                                                 \n",
            " conv1d_11 (Conv1D)          (None, 55, 96)            49248     \n",
            "                                                                 \n",
            " dropout_11 (Dropout)        (None, 55, 96)            0         \n",
            "                                                                 \n",
            " global_max_pooling1d (Globa  (None, 96)               0         \n",
            " lMaxPooling1D)                                                  \n",
            "                                                                 \n",
            " dense_9 (Dense)             (None, 256)               24832     \n",
            "                                                                 \n",
            " activation_6 (Activation)   (None, 256)               0         \n",
            "                                                                 \n",
            " dense_10 (Dense)            (None, 128)               32896     \n",
            "                                                                 \n",
            " activation_7 (Activation)   (None, 128)               0         \n",
            "                                                                 \n",
            " dense_11 (Dense)            (None, 50)                6450      \n",
            "                                                                 \n",
            "=================================================================\n",
            "Total params: 150,898\n",
            "Trainable params: 150,898\n",
            "Non-trainable params: 0\n",
            "_________________________________________________________________\n"
          ]
        }
      ],
      "source": [
        "simclr_model.summary()"
      ]
    },
    {
      "cell_type": "code",
      "execution_count": 22,
      "metadata": {},
      "outputs": [
        {
          "ename": "ValueError",
          "evalue": "matmul: Input operand 1 has a mismatch in its core dimension 0, with gufunc signature (n?,k),(k,m?)->(n?,m?) (size 3 is different from 6)",
          "output_type": "error",
          "traceback": [
            "\u001b[0;31m---------------------------------------------------------------------------\u001b[0m",
            "\u001b[0;31mValueError\u001b[0m                                Traceback (most recent call last)",
            "Cell \u001b[0;32mIn[22], line 2\u001b[0m\n\u001b[1;32m      1\u001b[0m \u001b[39mwith\u001b[39;00m tf\u001b[39m.\u001b[39mdevice(\u001b[39m'\u001b[39m\u001b[39m/gpu:0\u001b[39m\u001b[39m'\u001b[39m):\n\u001b[0;32m----> 2\u001b[0m     trained_simclr_model, epoch_losses \u001b[39m=\u001b[39m simclr_utitlities\u001b[39m.\u001b[39;49msimclr_train_model(simclr_model, np_train[\u001b[39m0\u001b[39;49m], optimizer, batch_size, transformation_function, temperature\u001b[39m=\u001b[39;49mtemperature, epochs\u001b[39m=\u001b[39;49mepochs, is_trasnform_function_vectorized\u001b[39m=\u001b[39;49m\u001b[39mTrue\u001b[39;49;00m, verbose\u001b[39m=\u001b[39;49m\u001b[39m1\u001b[39;49m)\n",
            "File \u001b[0;32m~/dl-13-elian/notebooks/workspaces/lstm-har/TFC-pretraining-1/code/baselines/SimCLR/simclr_utitlities.py:230\u001b[0m, in \u001b[0;36msimclr_train_model\u001b[0;34m(model, dataset, optimizer, batch_size, transformation_function, temperature, epochs, is_trasnform_function_vectorized, verbose)\u001b[0m\n\u001b[1;32m    226\u001b[0m \u001b[39mfor\u001b[39;00m data_batch \u001b[39min\u001b[39;00m batched_dataset:\n\u001b[1;32m    227\u001b[0m \n\u001b[1;32m    228\u001b[0m     \u001b[39m# Apply transformation\u001b[39;00m\n\u001b[1;32m    229\u001b[0m     \u001b[39mif\u001b[39;00m is_trasnform_function_vectorized:\n\u001b[0;32m--> 230\u001b[0m         transform_1 \u001b[39m=\u001b[39m transformation_function(data_batch)\n\u001b[1;32m    231\u001b[0m         transform_2 \u001b[39m=\u001b[39m transformation_function(data_batch)\n\u001b[1;32m    232\u001b[0m     \u001b[39melse\u001b[39;00m:\n",
            "File \u001b[0;32m~/dl-13-elian/notebooks/workspaces/lstm-har/TFC-pretraining-1/code/baselines/SimCLR/simclr_utitlities.py:50\u001b[0m, in \u001b[0;36mgenerate_composite_transform_function_simple.<locals>.combined_transform_func\u001b[0;34m(sample)\u001b[0m\n\u001b[1;32m     48\u001b[0m \u001b[39mdef\u001b[39;00m \u001b[39mcombined_transform_func\u001b[39m(sample):\n\u001b[1;32m     49\u001b[0m     \u001b[39mfor\u001b[39;00m func \u001b[39min\u001b[39;00m transform_funcs:\n\u001b[0;32m---> 50\u001b[0m         sample \u001b[39m=\u001b[39m func(sample)\n\u001b[1;32m     51\u001b[0m     \u001b[39mreturn\u001b[39;00m sample\n",
            "File \u001b[0;32m~/dl-13-elian/notebooks/workspaces/lstm-har/TFC-pretraining-1/code/baselines/SimCLR/transformations.py:60\u001b[0m, in \u001b[0;36mrotation_transform_vectorized\u001b[0;34m(X)\u001b[0m\n\u001b[1;32m     57\u001b[0m angles \u001b[39m=\u001b[39m np\u001b[39m.\u001b[39mrandom\u001b[39m.\u001b[39muniform(low\u001b[39m=\u001b[39m\u001b[39m-\u001b[39mnp\u001b[39m.\u001b[39mpi, high\u001b[39m=\u001b[39mnp\u001b[39m.\u001b[39mpi, size\u001b[39m=\u001b[39m(X\u001b[39m.\u001b[39mshape[\u001b[39m0\u001b[39m]))\n\u001b[1;32m     58\u001b[0m matrices \u001b[39m=\u001b[39m axis_angle_to_rotation_matrix_3d_vectorized(axes, angles)\n\u001b[0;32m---> 60\u001b[0m \u001b[39mreturn\u001b[39;00m np\u001b[39m.\u001b[39;49mmatmul(X, matrices)\n",
            "\u001b[0;31mValueError\u001b[0m: matmul: Input operand 1 has a mismatch in its core dimension 0, with gufunc signature (n?,k),(k,m?)->(n?,m?) (size 3 is different from 6)"
          ]
        }
      ],
      "source": [
        "with tf.device('/gpu:0'):\n",
        "    trained_simclr_model, epoch_losses = simclr_utitlities.simclr_train_model(simclr_model, np_train[0], optimizer, batch_size, transformation_function, temperature=temperature, epochs=epochs, is_trasnform_function_vectorized=True, verbose=1)\n"
      ]
    },
    {
      "cell_type": "code",
      "execution_count": null,
      "metadata": {},
      "outputs": [],
      "source": [
        "\n",
        "    simclr_model_save_path = f\"{working_directory}{start_time_str}_simclr.hdf5\"\n",
        "    trained_simclr_model.save(simclr_model_save_path)"
      ]
    },
    {
      "cell_type": "code",
      "execution_count": 16,
      "metadata": {
        "colab": {
          "base_uri": "https://localhost:8080/",
          "height": 537
        },
        "id": "VDRIHsXLP53T",
        "outputId": "2a3d3837-fe61-43c7-cdaa-8304c1183458"
      },
      "outputs": [
        {
          "data": {
            "image/png": "[encoded data removed]",
            "text/plain": [
              "<Figure size 500x200 with 1 Axes>"
            ]
          },
          "metadata": {},
          "output_type": "display_data"
        }
      ],
      "source": [
        "plt.figure(figsize=(5,2))\n",
        "plt.plot(epoch_losses)\n",
        "plt.ylabel(\"Loss\", fontsize = 12)\n",
        "# change font size of axis labels\n",
        "plt.tick_params(axis='both', which='major', labelsize=6)\n",
        "# change size of labels\n",
        "plt.title(\"SimCLR Loss\", fontsize = 12)\n",
        "\n",
        "plt.xlabel(\"Epoch\", fontsize = 12)\n",
        "plt.show()"
      ]
    },
    {
      "cell_type": "markdown",
      "metadata": {
        "id": "HhhL7Zs9P53U"
      },
      "source": [
        "## Fine-tuning and Evaluation"
      ]
    },
    {
      "cell_type": "markdown",
      "metadata": {
        "id": "TMELGS4VP53U"
      },
      "source": [
        "### Linear Model"
      ]
    },
    {
      "cell_type": "code",
      "execution_count": 26,
      "metadata": {},
      "outputs": [
        {
          "data": {
            "text/plain": [
              "'test_run/20230614-214834_simclr.hdf5'"
            ]
          },
          "execution_count": 26,
          "metadata": {},
          "output_type": "execute_result"
        }
      ],
      "source": [
        "simclr_model_save_path"
      ]
    },
    {
      "cell_type": "code",
      "execution_count": 31,
      "metadata": {},
      "outputs": [
        {
          "name": "stdout",
          "output_type": "stream",
          "text": [
            "Model: \"base_model_simclrlinear\"\n",
            "_________________________________________________________________\n",
            " Layer (type)                Output Shape              Param #   \n",
            "=================================================================\n",
            " input (InputLayer)          [(None, 400, 3)]          0         \n",
            "                                                                 \n",
            " conv1d (Conv1D)             (None, 377, 32)           2336      \n",
            "                                                                 \n",
            " dropout (Dropout)           (None, 377, 32)           0         \n",
            "                                                                 \n",
            " conv1d_1 (Conv1D)           (None, 362, 64)           32832     \n",
            "                                                                 \n",
            " dropout_1 (Dropout)         (None, 362, 64)           0         \n",
            "                                                                 \n",
            " conv1d_2 (Conv1D)           (None, 355, 96)           49248     \n",
            "                                                                 \n",
            " dropout_2 (Dropout)         (None, 355, 96)           0         \n",
            "                                                                 \n",
            " global_max_pooling1d (Globa  (None, 96)               0         \n",
            " lMaxPooling1D)                                                  \n",
            "                                                                 \n",
            " dense_3 (Dense)             (None, 7)                 679       \n",
            "                                                                 \n",
            " softmax (Softmax)           (None, 7)                 0         \n",
            "                                                                 \n",
            "=================================================================\n",
            "Total params: 85,095\n",
            "Trainable params: 679\n",
            "Non-trainable params: 84,416\n",
            "_________________________________________________________________\n"
          ]
        }
      ],
      "source": [
        "linear_evaluation_model.summary()"
      ]
    },
    {
      "cell_type": "code",
      "execution_count": 97,
      "metadata": {},
      "outputs": [],
      "source": [
        "np_test[1][0] = [1., 0., 0., 0., 0., 0., 0.]"
      ]
    },
    {
      "cell_type": "code",
      "execution_count": 32,
      "metadata": {
        "colab": {
          "base_uri": "https://localhost:8080/"
        },
        "id": "8FVlN91PP53U",
        "outputId": "25ec0bda-977e-4840-cf9b-ca2eeb8864ea"
      },
      "outputs": [
        {
          "name": "stdout",
          "output_type": "stream",
          "text": [
            "WARNING:tensorflow:No training configuration found in the save file, so the model was *not* compiled. Compile it manually.\n",
            "Epoch 1/10\n",
            "21/21 [==============================] - 1s 25ms/step - loss: 1.3595 - categorical_accuracy: 0.4741 - auc: 0.8474 - precision: 0.8628 - recall: 0.2505 - val_loss: 1.2265 - val_categorical_accuracy: 0.5935 - val_auc: 0.9026 - val_precision: 0.9320 - val_recall: 0.2761\n",
            "Epoch 2/10\n",
            "21/21 [==============================] - 0s 16ms/step - loss: 1.1399 - categorical_accuracy: 0.6284 - auc: 0.9113 - precision: 0.8925 - recall: 0.3664 - val_loss: 1.1155 - val_categorical_accuracy: 0.7440 - val_auc: 0.9295 - val_precision: 0.9284 - val_recall: 0.3480\n",
            "Epoch 3/10\n",
            "21/21 [==============================] - 0s 20ms/step - loss: 1.0453 - categorical_accuracy: 0.7507 - auc: 0.9338 - precision: 0.8874 - recall: 0.4083 - val_loss: 1.0461 - val_categorical_accuracy: 0.7584 - val_auc: 0.9420 - val_precision: 0.9182 - val_recall: 0.3873\n",
            "Epoch 4/10\n",
            "21/21 [==============================] - 0s 19ms/step - loss: 0.9764 - categorical_accuracy: 0.7702 - auc: 0.9449 - precision: 0.8867 - recall: 0.4206 - val_loss: 0.9859 - val_categorical_accuracy: 0.7632 - val_auc: 0.9518 - val_precision: 0.9046 - val_recall: 0.4180\n",
            "Epoch 5/10\n",
            "21/21 [==============================] - 0s 14ms/step - loss: 0.9292 - categorical_accuracy: 0.7752 - auc: 0.9507 - precision: 0.8831 - recall: 0.4275 - val_loss: 0.9439 - val_categorical_accuracy: 0.7776 - val_auc: 0.9567 - val_precision: 0.9040 - val_recall: 0.4334\n",
            "Epoch 6/10\n",
            "21/21 [==============================] - 0s 13ms/step - loss: 0.8864 - categorical_accuracy: 0.7788 - auc: 0.9550 - precision: 0.8852 - recall: 0.4347 - val_loss: 0.9141 - val_categorical_accuracy: 0.7756 - val_auc: 0.9601 - val_precision: 0.9177 - val_recall: 0.4276\n",
            "Epoch 7/10\n",
            "21/21 [==============================] - 0s 15ms/step - loss: 0.8511 - categorical_accuracy: 0.7754 - auc: 0.9593 - precision: 0.8868 - recall: 0.4362 - val_loss: 0.8785 - val_categorical_accuracy: 0.7747 - val_auc: 0.9614 - val_precision: 0.9039 - val_recall: 0.4420\n",
            "Epoch 8/10\n",
            "21/21 [==============================] - 0s 14ms/step - loss: 0.8259 - categorical_accuracy: 0.7771 - auc: 0.9610 - precision: 0.8829 - recall: 0.4398 - val_loss: 0.8485 - val_categorical_accuracy: 0.7900 - val_auc: 0.9642 - val_precision: 0.9027 - val_recall: 0.4449\n",
            "Epoch 9/10\n",
            "21/21 [==============================] - 0s 21ms/step - loss: 0.7962 - categorical_accuracy: 0.7845 - auc: 0.9643 - precision: 0.8838 - recall: 0.4436 - val_loss: 0.8336 - val_categorical_accuracy: 0.7795 - val_auc: 0.9631 - val_precision: 0.9033 - val_recall: 0.4477\n",
            "Epoch 10/10\n",
            "21/21 [==============================] - 0s 14ms/step - loss: 0.7780 - categorical_accuracy: 0.7841 - auc: 0.9651 - precision: 0.8813 - recall: 0.4508 - val_loss: 0.8119 - val_categorical_accuracy: 0.7872 - val_auc: 0.9648 - val_precision: 0.9049 - val_recall: 0.4564\n"
          ]
        }
      ],
      "source": [
        "total_epochs = 10\n",
        "batch_size = 200\n",
        "tag = \"linear_eval\"\n",
        "\n",
        "simclr_model = tf.keras.models.load_model(simclr_model_save_path)\n",
        "linear_evaluation_model = simclr_models.create_linear_model_from_base_model(simclr_model, output_shape, intermediate_layer=7)\n",
        "\n",
        "linear_eval_best_model_file_name = f\"{working_directory}{start_time_str}_simclr_{tag}.hdf5\"\n",
        "best_model_callback = tf.keras.callbacks.ModelCheckpoint(linear_eval_best_model_file_name,\n",
        "    monitor='val_loss', mode='min', save_best_only=True, save_weights_only=False, verbose=0\n",
        ")\n",
        "\n",
        "training_history = linear_evaluation_model.fit(\n",
        "    x = np_train[0],\n",
        "    y = np_train[1],\n",
        "    batch_size=batch_size,\n",
        "    shuffle=True,\n",
        "    epochs=total_epochs,\n",
        "    callbacks=[best_model_callback],\n",
        "    validation_data=np_val\n",
        ")\n",
        "\n",
        "linear_eval_best_model = tf.keras.models.load_model(linear_eval_best_model_file_name)\n",
        "\n",
        "print(\"Model with lowest validation Loss:\")\n",
        "print(simclr_utitlities.evaluate_model_simple(linear_eval_best_model.predict(np_test[0]), np_test[1], return_dict=True))\n",
        "print(\"Model in last epoch\")\n",
        "print(simclr_utitlities.evaluate_model_simple(linear_evaluation_model.predict(np_test[0]), np_test[1], return_dict=True))\n"
      ]
    },
    {
      "cell_type": "markdown",
      "metadata": {
        "id": "c54Gf4jKP53U"
      },
      "source": [
        "### Full HAR Model"
      ]
    },
    {
      "cell_type": "code",
      "execution_count": 142,
      "metadata": {},
      "outputs": [
        {
          "name": "stdout",
          "output_type": "stream",
          "text": [
            "/home/elian.riveros/dl-13-elian/notebooks/workspaces/lstm-har/TFC-pretraining-1/code/baselines/SimCLR\n"
          ]
        }
      ],
      "source": [
        "!pwd"
      ]
    },
    {
      "cell_type": "code",
      "execution_count": 143,
      "metadata": {},
      "outputs": [
        {
          "name": "stdout",
          "output_type": "stream",
          "text": [
            "(4168, 400, 3)\n",
            "(4168, 7)\n",
            "(1043, 400, 3)\n",
            "(1043, 7)\n",
            "(1419, 400, 3)\n",
            "(1419, 7)\n"
          ]
        }
      ],
      "source": [
        "print(np_train[0].shape)\n",
        "print(np_train[1].shape)\n",
        "print(np_val[0].shape)\n",
        "print(np_val[1].shape)\n",
        "print(np_test[0].shape)\n",
        "print(np_test[1].shape)"
      ]
    },
    {
      "cell_type": "code",
      "execution_count": 140,
      "metadata": {},
      "outputs": [],
      "source": [
        "root = \"/home/elian.riveros/dl-13-elian/notebooks/workspaces\"\n",
        "file_name = \"lstm-har/gatednet_ax2Sns/dataset/UEA_archive/BasicMotions\"\n",
        "dataset = 'cola'\n",
        "train_X_path = root + '/' + file_name + '/' + 'X_train_'+dataset+'_3ch.npy'\n",
        "train_Y_path = root + '/' + file_name + '/' + 'y_train_'+dataset+'.npy'\n",
        "val_X_path = root + '/' + file_name + '/' + 'X_val_'+dataset+'_3ch.npy'\n",
        "val_Y_path = root + '/' + file_name + '/' + 'y_val_'+dataset+'.npy'        \n",
        "test_X_path = root + '/' + file_name + '/' + 'X_test_'+dataset+'_3ch.npy'\n",
        "test_Y_path = root + '/' + file_name + '/' + 'y_test_'+dataset+'.npy'\n",
        "\n",
        "train_X = np.load(train_X_path)\n",
        "train_Y = np.load(train_Y_path)\n",
        "val_X = np.load(val_X_path)\n",
        "val_Y = np.load(val_Y_path)\n",
        "test_X = np.load(test_X_path)\n",
        "test_Y = np.load(test_Y_path)"
      ]
    },
    {
      "cell_type": "code",
      "execution_count": 144,
      "metadata": {},
      "outputs": [
        {
          "name": "stdout",
          "output_type": "stream",
          "text": [
            "Shapes:\n",
            "(8075, 100, 6) (8075,)\n",
            "(8855, 100, 6) (8855,)\n",
            "(3015, 100, 6) (3015,)\n"
          ]
        }
      ],
      "source": [
        "print(\"Shapes:\")\n",
        "print(train_X.shape, train_Y.shape)\n",
        "print(val_X.shape, val_Y.shape)\n",
        "print(test_X.shape, test_Y.shape)"
      ]
    },
    {
      "cell_type": "code",
      "execution_count": 159,
      "metadata": {},
      "outputs": [],
      "source": [
        "train_Y_onehot= tf.one_hot(train_Y, 7)\n",
        "val_Y_onehot= tf.one_hot(val_Y, 7)\n",
        "test_Y_onehot= tf.one_hot(test_Y, 7)"
      ]
    },
    {
      "cell_type": "code",
      "execution_count": 158,
      "metadata": {},
      "outputs": [
        {
          "data": {
            "text/plain": [
              "tuple"
            ]
          },
          "execution_count": 158,
          "metadata": {},
          "output_type": "execute_result"
        }
      ],
      "source": [
        "type(np_train)"
      ]
    },
    {
      "cell_type": "code",
      "execution_count": 171,
      "metadata": {},
      "outputs": [],
      "source": [
        "np_train2 = (train_X, train_Y_onehot)\n",
        "np_val2 = (val_X, val_Y_onehot)"
      ]
    },
    {
      "cell_type": "code",
      "execution_count": 27,
      "metadata": {},
      "outputs": [],
      "source": [
        "simclr_model_save_path = \"test_run/20230614-021725_simclr.hdf5\""
      ]
    },
    {
      "cell_type": "code",
      "execution_count": 155,
      "metadata": {},
      "outputs": [
        {
          "data": {
            "text/plain": [
              "'test_run/20230614-214834_simclr.hdf5'"
            ]
          },
          "execution_count": 155,
          "metadata": {},
          "output_type": "execute_result"
        }
      ],
      "source": [
        "simclr_model_save_path"
      ]
    },
    {
      "cell_type": "code",
      "execution_count": 180,
      "metadata": {},
      "outputs": [
        {
          "name": "stdout",
          "output_type": "stream",
          "text": [
            "WARNING:tensorflow:No training configuration found in the save file, so the model was *not* compiled. Compile it manually.\n",
            "inputs: KerasTensor(type_spec=TensorSpec(shape=(None, 100, 6), dtype=tf.float32, name='input'), name='input', description=\"created by layer 'input'\")\n"
          ]
        },
        {
          "ename": "ValueError",
          "evalue": "Graph disconnected: cannot obtain value for tensor KerasTensor(type_spec=TensorSpec(shape=(None, 400, 3), dtype=tf.float32, name='input'), name='input', description=\"created by layer 'input'\") at layer \"conv1d\". The following previous layers were accessed without issue: []",
          "output_type": "error",
          "traceback": [
            "\u001b[0;31m---------------------------------------------------------------------------\u001b[0m",
            "\u001b[0;31mValueError\u001b[0m                                Traceback (most recent call last)",
            "Cell \u001b[0;32mIn[180], line 6\u001b[0m\n\u001b[1;32m      3\u001b[0m tag \u001b[39m=\u001b[39m \u001b[39m\"\u001b[39m\u001b[39mfull_eval\u001b[39m\u001b[39m\"\u001b[39m\n\u001b[1;32m      5\u001b[0m simclr_model \u001b[39m=\u001b[39m tf\u001b[39m.\u001b[39mkeras\u001b[39m.\u001b[39mmodels\u001b[39m.\u001b[39mload_model(simclr_model_save_path)\n\u001b[0;32m----> 6\u001b[0m full_evaluation_model \u001b[39m=\u001b[39m simclr_models\u001b[39m.\u001b[39;49mcreate_full_classification_model_from_base_model(simclr_model, output_shape, model_name\u001b[39m=\u001b[39;49m\u001b[39m\"\u001b[39;49m\u001b[39mTPN\u001b[39;49m\u001b[39m\"\u001b[39;49m, intermediate_layer\u001b[39m=\u001b[39;49m\u001b[39m7\u001b[39;49m, last_freeze_layer\u001b[39m=\u001b[39;49m\u001b[39m4\u001b[39;49m)\n",
            "File \u001b[0;32m~/dl-13-elian/notebooks/workspaces/lstm-har/TFC-pretraining-1/code/baselines/SimCLR/simclr_models.py:191\u001b[0m, in \u001b[0;36mcreate_full_classification_model_from_base_model\u001b[0;34m(base_model, output_shape, model_name, intermediate_layer, last_freeze_layer)\u001b[0m\n\u001b[1;32m    189\u001b[0m inputs \u001b[39m=\u001b[39m tf\u001b[39m.\u001b[39mkeras\u001b[39m.\u001b[39mInput(shape\u001b[39m=\u001b[39m(\u001b[39m100\u001b[39m, \u001b[39m6\u001b[39m), name\u001b[39m=\u001b[39m\u001b[39m'\u001b[39m\u001b[39minput\u001b[39m\u001b[39m'\u001b[39m)\n\u001b[1;32m    190\u001b[0m \u001b[39mprint\u001b[39m(\u001b[39m\"\u001b[39m\u001b[39minputs:\u001b[39m\u001b[39m\"\u001b[39m, inputs)\n\u001b[0;32m--> 191\u001b[0m model \u001b[39m=\u001b[39m tf\u001b[39m.\u001b[39;49mkeras\u001b[39m.\u001b[39;49mModel(inputs\u001b[39m=\u001b[39;49minputs, outputs\u001b[39m=\u001b[39;49moutputs, name\u001b[39m=\u001b[39;49mmodel_name)\n\u001b[1;32m    193\u001b[0m \u001b[39mfor\u001b[39;00m layer \u001b[39min\u001b[39;00m model\u001b[39m.\u001b[39mlayers:\n\u001b[1;32m    194\u001b[0m     layer\u001b[39m.\u001b[39mtrainable \u001b[39m=\u001b[39m \u001b[39mFalse\u001b[39;00m\n",
            "File \u001b[0;32m~/miniconda3/envs/tensor/lib/python3.9/site-packages/tensorflow/python/trackable/base.py:205\u001b[0m, in \u001b[0;36mno_automatic_dependency_tracking.<locals>._method_wrapper\u001b[0;34m(self, *args, **kwargs)\u001b[0m\n\u001b[1;32m    203\u001b[0m \u001b[39mself\u001b[39m\u001b[39m.\u001b[39m_self_setattr_tracking \u001b[39m=\u001b[39m \u001b[39mFalse\u001b[39;00m  \u001b[39m# pylint: disable=protected-access\u001b[39;00m\n\u001b[1;32m    204\u001b[0m \u001b[39mtry\u001b[39;00m:\n\u001b[0;32m--> 205\u001b[0m   result \u001b[39m=\u001b[39m method(\u001b[39mself\u001b[39;49m, \u001b[39m*\u001b[39;49margs, \u001b[39m*\u001b[39;49m\u001b[39m*\u001b[39;49mkwargs)\n\u001b[1;32m    206\u001b[0m \u001b[39mfinally\u001b[39;00m:\n\u001b[1;32m    207\u001b[0m   \u001b[39mself\u001b[39m\u001b[39m.\u001b[39m_self_setattr_tracking \u001b[39m=\u001b[39m previous_value  \u001b[39m# pylint: disable=protected-access\u001b[39;00m\n",
            "File \u001b[0;32m~/miniconda3/envs/tensor/lib/python3.9/site-packages/keras/engine/functional.py:166\u001b[0m, in \u001b[0;36mFunctional.__init__\u001b[0;34m(self, inputs, outputs, name, trainable, **kwargs)\u001b[0m\n\u001b[1;32m    157\u001b[0m     \u001b[39mif\u001b[39;00m \u001b[39mnot\u001b[39;00m \u001b[39mall\u001b[39m(\n\u001b[1;32m    158\u001b[0m         [\n\u001b[1;32m    159\u001b[0m             functional_utils\u001b[39m.\u001b[39mis_input_keras_tensor(t)\n\u001b[1;32m    160\u001b[0m             \u001b[39mfor\u001b[39;00m t \u001b[39min\u001b[39;00m tf\u001b[39m.\u001b[39mnest\u001b[39m.\u001b[39mflatten(inputs)\n\u001b[1;32m    161\u001b[0m         ]\n\u001b[1;32m    162\u001b[0m     ):\n\u001b[1;32m    163\u001b[0m         inputs, outputs \u001b[39m=\u001b[39m functional_utils\u001b[39m.\u001b[39mclone_graph_nodes(\n\u001b[1;32m    164\u001b[0m             inputs, outputs\n\u001b[1;32m    165\u001b[0m         )\n\u001b[0;32m--> 166\u001b[0m \u001b[39mself\u001b[39;49m\u001b[39m.\u001b[39;49m_init_graph_network(inputs, outputs)\n",
            "File \u001b[0;32m~/miniconda3/envs/tensor/lib/python3.9/site-packages/tensorflow/python/trackable/base.py:205\u001b[0m, in \u001b[0;36mno_automatic_dependency_tracking.<locals>._method_wrapper\u001b[0;34m(self, *args, **kwargs)\u001b[0m\n\u001b[1;32m    203\u001b[0m \u001b[39mself\u001b[39m\u001b[39m.\u001b[39m_self_setattr_tracking \u001b[39m=\u001b[39m \u001b[39mFalse\u001b[39;00m  \u001b[39m# pylint: disable=protected-access\u001b[39;00m\n\u001b[1;32m    204\u001b[0m \u001b[39mtry\u001b[39;00m:\n\u001b[0;32m--> 205\u001b[0m   result \u001b[39m=\u001b[39m method(\u001b[39mself\u001b[39;49m, \u001b[39m*\u001b[39;49margs, \u001b[39m*\u001b[39;49m\u001b[39m*\u001b[39;49mkwargs)\n\u001b[1;32m    206\u001b[0m \u001b[39mfinally\u001b[39;00m:\n\u001b[1;32m    207\u001b[0m   \u001b[39mself\u001b[39m\u001b[39m.\u001b[39m_self_setattr_tracking \u001b[39m=\u001b[39m previous_value  \u001b[39m# pylint: disable=protected-access\u001b[39;00m\n",
            "File \u001b[0;32m~/miniconda3/envs/tensor/lib/python3.9/site-packages/keras/engine/functional.py:265\u001b[0m, in \u001b[0;36mFunctional._init_graph_network\u001b[0;34m(self, inputs, outputs)\u001b[0m\n\u001b[1;32m    262\u001b[0m     \u001b[39mself\u001b[39m\u001b[39m.\u001b[39m_input_coordinates\u001b[39m.\u001b[39mappend((layer, node_index, tensor_index))\n\u001b[1;32m    264\u001b[0m \u001b[39m# Keep track of the network's nodes and layers.\u001b[39;00m\n\u001b[0;32m--> 265\u001b[0m nodes, nodes_by_depth, layers, _ \u001b[39m=\u001b[39m _map_graph_network(\n\u001b[1;32m    266\u001b[0m     \u001b[39mself\u001b[39;49m\u001b[39m.\u001b[39;49minputs, \u001b[39mself\u001b[39;49m\u001b[39m.\u001b[39;49moutputs\n\u001b[1;32m    267\u001b[0m )\n\u001b[1;32m    268\u001b[0m \u001b[39mself\u001b[39m\u001b[39m.\u001b[39m_network_nodes \u001b[39m=\u001b[39m nodes\n\u001b[1;32m    269\u001b[0m \u001b[39mself\u001b[39m\u001b[39m.\u001b[39m_nodes_by_depth \u001b[39m=\u001b[39m nodes_by_depth\n",
            "File \u001b[0;32m~/miniconda3/envs/tensor/lib/python3.9/site-packages/keras/engine/functional.py:1129\u001b[0m, in \u001b[0;36m_map_graph_network\u001b[0;34m(inputs, outputs)\u001b[0m\n\u001b[1;32m   1127\u001b[0m \u001b[39mfor\u001b[39;00m x \u001b[39min\u001b[39;00m tf\u001b[39m.\u001b[39mnest\u001b[39m.\u001b[39mflatten(node\u001b[39m.\u001b[39mkeras_inputs):\n\u001b[1;32m   1128\u001b[0m     \u001b[39mif\u001b[39;00m \u001b[39mid\u001b[39m(x) \u001b[39mnot\u001b[39;00m \u001b[39min\u001b[39;00m computable_tensors:\n\u001b[0;32m-> 1129\u001b[0m         \u001b[39mraise\u001b[39;00m \u001b[39mValueError\u001b[39;00m(\n\u001b[1;32m   1130\u001b[0m             \u001b[39m\"\u001b[39m\u001b[39mGraph disconnected: cannot obtain value for \u001b[39m\u001b[39m\"\u001b[39m\n\u001b[1;32m   1131\u001b[0m             \u001b[39mf\u001b[39m\u001b[39m'\u001b[39m\u001b[39mtensor \u001b[39m\u001b[39m{\u001b[39;00mx\u001b[39m}\u001b[39;00m\u001b[39m at layer \u001b[39m\u001b[39m\"\u001b[39m\u001b[39m{\u001b[39;00mlayer\u001b[39m.\u001b[39mname\u001b[39m}\u001b[39;00m\u001b[39m\"\u001b[39m\u001b[39m. \u001b[39m\u001b[39m'\u001b[39m\n\u001b[1;32m   1132\u001b[0m             \u001b[39m\"\u001b[39m\u001b[39mThe following previous layers were accessed \u001b[39m\u001b[39m\"\u001b[39m\n\u001b[1;32m   1133\u001b[0m             \u001b[39mf\u001b[39m\u001b[39m\"\u001b[39m\u001b[39mwithout issue: \u001b[39m\u001b[39m{\u001b[39;00mlayers_with_complete_input\u001b[39m}\u001b[39;00m\u001b[39m\"\u001b[39m\n\u001b[1;32m   1134\u001b[0m         )\n\u001b[1;32m   1135\u001b[0m \u001b[39mfor\u001b[39;00m x \u001b[39min\u001b[39;00m tf\u001b[39m.\u001b[39mnest\u001b[39m.\u001b[39mflatten(node\u001b[39m.\u001b[39moutputs):\n\u001b[1;32m   1136\u001b[0m     computable_tensors\u001b[39m.\u001b[39madd(\u001b[39mid\u001b[39m(x))\n",
            "\u001b[0;31mValueError\u001b[0m: Graph disconnected: cannot obtain value for tensor KerasTensor(type_spec=TensorSpec(shape=(None, 400, 3), dtype=tf.float32, name='input'), name='input', description=\"created by layer 'input'\") at layer \"conv1d\". The following previous layers were accessed without issue: []"
          ]
        }
      ],
      "source": [
        "total_epochs = 50\n",
        "batch_size = 200\n",
        "tag = \"full_eval\"\n",
        "\n",
        "simclr_model = tf.keras.models.load_model(simclr_model_save_path)\n",
        "full_evaluation_model = simclr_models.create_full_classification_model_from_base_model(simclr_model, output_shape, model_name=\"TPN\", intermediate_layer=7, last_freeze_layer=4)"
      ]
    },
    {
      "cell_type": "code",
      "execution_count": 174,
      "metadata": {},
      "outputs": [
        {
          "data": {
            "text/plain": [
              "'test_run/20230614-214834_simclr_full_eval.hdf5'"
            ]
          },
          "execution_count": 174,
          "metadata": {},
          "output_type": "execute_result"
        }
      ],
      "source": [
        "full_eval_best_model_file_name = f\"{working_directory}{start_time_str}_simclr_{tag}.hdf5\"\n",
        "full_eval_best_model_file_name"
      ]
    },
    {
      "cell_type": "code",
      "execution_count": 177,
      "metadata": {
        "colab": {
          "base_uri": "https://localhost:8080/"
        },
        "id": "ty-ZQvLvP53U",
        "outputId": "59d9f85a-97a5-463d-9acc-a9b1f68183c7"
      },
      "outputs": [
        {
          "name": "stdout",
          "output_type": "stream",
          "text": [
            "Epoch 1/50\n"
          ]
        },
        {
          "ename": "ValueError",
          "evalue": "in user code:\n\n    File \"/home/elian.riveros/miniconda3/envs/tensor/lib/python3.9/site-packages/keras/engine/training.py\", line 1249, in train_function  *\n        return step_function(self, iterator)\n    File \"/home/elian.riveros/miniconda3/envs/tensor/lib/python3.9/site-packages/keras/engine/training.py\", line 1233, in step_function  **\n        outputs = model.distribute_strategy.run(run_step, args=(data,))\n    File \"/home/elian.riveros/miniconda3/envs/tensor/lib/python3.9/site-packages/keras/engine/training.py\", line 1222, in run_step  **\n        outputs = model.train_step(data)\n    File \"/home/elian.riveros/miniconda3/envs/tensor/lib/python3.9/site-packages/keras/engine/training.py\", line 1023, in train_step\n        y_pred = self(x, training=True)\n    File \"/home/elian.riveros/miniconda3/envs/tensor/lib/python3.9/site-packages/keras/utils/traceback_utils.py\", line 70, in error_handler\n        raise e.with_traceback(filtered_tb) from None\n    File \"/home/elian.riveros/miniconda3/envs/tensor/lib/python3.9/site-packages/keras/engine/input_spec.py\", line 295, in assert_input_compatibility\n        raise ValueError(\n\n    ValueError: Input 0 of layer \"TPN\" is incompatible with the layer: expected shape=(None, 400, 3), found shape=(None, 100, 6)\n",
          "output_type": "error",
          "traceback": [
            "\u001b[0;31m---------------------------------------------------------------------------\u001b[0m",
            "\u001b[0;31mValueError\u001b[0m                                Traceback (most recent call last)",
            "Cell \u001b[0;32mIn[177], line 5\u001b[0m\n\u001b[1;32m      1\u001b[0m best_model_callback \u001b[39m=\u001b[39m tf\u001b[39m.\u001b[39mkeras\u001b[39m.\u001b[39mcallbacks\u001b[39m.\u001b[39mModelCheckpoint(full_eval_best_model_file_name,\n\u001b[1;32m      2\u001b[0m     monitor\u001b[39m=\u001b[39m\u001b[39m'\u001b[39m\u001b[39mval_loss\u001b[39m\u001b[39m'\u001b[39m, mode\u001b[39m=\u001b[39m\u001b[39m'\u001b[39m\u001b[39mmin\u001b[39m\u001b[39m'\u001b[39m, save_best_only\u001b[39m=\u001b[39m\u001b[39mTrue\u001b[39;00m, save_weights_only\u001b[39m=\u001b[39m\u001b[39mFalse\u001b[39;00m, verbose\u001b[39m=\u001b[39m\u001b[39m0\u001b[39m\n\u001b[1;32m      3\u001b[0m )\n\u001b[0;32m----> 5\u001b[0m training_history \u001b[39m=\u001b[39m full_evaluation_model\u001b[39m.\u001b[39;49mfit(\n\u001b[1;32m      6\u001b[0m     x \u001b[39m=\u001b[39;49m np_train2[\u001b[39m0\u001b[39;49m],\n\u001b[1;32m      7\u001b[0m     y \u001b[39m=\u001b[39;49m np_train2[\u001b[39m1\u001b[39;49m],\n\u001b[1;32m      8\u001b[0m     batch_size\u001b[39m=\u001b[39;49mbatch_size,\n\u001b[1;32m      9\u001b[0m     shuffle\u001b[39m=\u001b[39;49m\u001b[39mTrue\u001b[39;49;00m,\n\u001b[1;32m     10\u001b[0m     epochs\u001b[39m=\u001b[39;49mtotal_epochs,\n\u001b[1;32m     11\u001b[0m     callbacks\u001b[39m=\u001b[39;49m[best_model_callback],\n\u001b[1;32m     12\u001b[0m     validation_data\u001b[39m=\u001b[39;49mnp_val2\n\u001b[1;32m     13\u001b[0m )\n\u001b[1;32m     15\u001b[0m full_eval_best_model \u001b[39m=\u001b[39m tf\u001b[39m.\u001b[39mkeras\u001b[39m.\u001b[39mmodels\u001b[39m.\u001b[39mload_model(full_eval_best_model_file_name)\n\u001b[1;32m     17\u001b[0m \u001b[39mprint\u001b[39m(\u001b[39m\"\u001b[39m\u001b[39mModel with lowest validation Loss:\u001b[39m\u001b[39m\"\u001b[39m)\n",
            "File \u001b[0;32m~/miniconda3/envs/tensor/lib/python3.9/site-packages/keras/utils/traceback_utils.py:70\u001b[0m, in \u001b[0;36mfilter_traceback.<locals>.error_handler\u001b[0;34m(*args, **kwargs)\u001b[0m\n\u001b[1;32m     67\u001b[0m     filtered_tb \u001b[39m=\u001b[39m _process_traceback_frames(e\u001b[39m.\u001b[39m__traceback__)\n\u001b[1;32m     68\u001b[0m     \u001b[39m# To get the full stack trace, call:\u001b[39;00m\n\u001b[1;32m     69\u001b[0m     \u001b[39m# `tf.debugging.disable_traceback_filtering()`\u001b[39;00m\n\u001b[0;32m---> 70\u001b[0m     \u001b[39mraise\u001b[39;00m e\u001b[39m.\u001b[39mwith_traceback(filtered_tb) \u001b[39mfrom\u001b[39;00m \u001b[39mNone\u001b[39m\n\u001b[1;32m     71\u001b[0m \u001b[39mfinally\u001b[39;00m:\n\u001b[1;32m     72\u001b[0m     \u001b[39mdel\u001b[39;00m filtered_tb\n",
            "File \u001b[0;32m/tmp/__autograph_generated_filevlmf1otl.py:15\u001b[0m, in \u001b[0;36mouter_factory.<locals>.inner_factory.<locals>.tf__train_function\u001b[0;34m(iterator)\u001b[0m\n\u001b[1;32m     13\u001b[0m \u001b[39mtry\u001b[39;00m:\n\u001b[1;32m     14\u001b[0m     do_return \u001b[39m=\u001b[39m \u001b[39mTrue\u001b[39;00m\n\u001b[0;32m---> 15\u001b[0m     retval_ \u001b[39m=\u001b[39m ag__\u001b[39m.\u001b[39mconverted_call(ag__\u001b[39m.\u001b[39mld(step_function), (ag__\u001b[39m.\u001b[39mld(\u001b[39mself\u001b[39m), ag__\u001b[39m.\u001b[39mld(iterator)), \u001b[39mNone\u001b[39;00m, fscope)\n\u001b[1;32m     16\u001b[0m \u001b[39mexcept\u001b[39;00m:\n\u001b[1;32m     17\u001b[0m     do_return \u001b[39m=\u001b[39m \u001b[39mFalse\u001b[39;00m\n",
            "\u001b[0;31mValueError\u001b[0m: in user code:\n\n    File \"/home/elian.riveros/miniconda3/envs/tensor/lib/python3.9/site-packages/keras/engine/training.py\", line 1249, in train_function  *\n        return step_function(self, iterator)\n    File \"/home/elian.riveros/miniconda3/envs/tensor/lib/python3.9/site-packages/keras/engine/training.py\", line 1233, in step_function  **\n        outputs = model.distribute_strategy.run(run_step, args=(data,))\n    File \"/home/elian.riveros/miniconda3/envs/tensor/lib/python3.9/site-packages/keras/engine/training.py\", line 1222, in run_step  **\n        outputs = model.train_step(data)\n    File \"/home/elian.riveros/miniconda3/envs/tensor/lib/python3.9/site-packages/keras/engine/training.py\", line 1023, in train_step\n        y_pred = self(x, training=True)\n    File \"/home/elian.riveros/miniconda3/envs/tensor/lib/python3.9/site-packages/keras/utils/traceback_utils.py\", line 70, in error_handler\n        raise e.with_traceback(filtered_tb) from None\n    File \"/home/elian.riveros/miniconda3/envs/tensor/lib/python3.9/site-packages/keras/engine/input_spec.py\", line 295, in assert_input_compatibility\n        raise ValueError(\n\n    ValueError: Input 0 of layer \"TPN\" is incompatible with the layer: expected shape=(None, 400, 3), found shape=(None, 100, 6)\n"
          ]
        }
      ],
      "source": [
        "best_model_callback = tf.keras.callbacks.ModelCheckpoint(full_eval_best_model_file_name,\n",
        "    monitor='val_loss', mode='min', save_best_only=True, save_weights_only=False, verbose=0\n",
        ")\n",
        "\n",
        "training_history = full_evaluation_model.fit(\n",
        "    x = np_train2[0],\n",
        "    y = np_train2[1],\n",
        "    batch_size=batch_size,\n",
        "    shuffle=True,\n",
        "    epochs=total_epochs,\n",
        "    callbacks=[best_model_callback],\n",
        "    validation_data=np_val2\n",
        ")\n",
        "\n",
        "full_eval_best_model = tf.keras.models.load_model(full_eval_best_model_file_name)\n",
        "\n",
        "print(\"Model with lowest validation Loss:\")\n",
        "print(simclr_utitlities.evaluate_model_simple(full_eval_best_model.predict(np_test[0]), np_test[1], return_dict=True))\n",
        "print(\"Model in last epoch\")\n",
        "print(simclr_utitlities.evaluate_model_simple(full_evaluation_model.predict(np_test[0]), np_test[1], return_dict=True))\n"
      ]
    },
    {
      "cell_type": "code",
      "execution_count": 120,
      "metadata": {},
      "outputs": [
        {
          "name": "stdout",
          "output_type": "stream",
          "text": [
            "Model: \"TPN\"\n",
            "_________________________________________________________________\n",
            " Layer (type)                Output Shape              Param #   \n",
            "=================================================================\n",
            " input (InputLayer)          [(None, 400, 3)]          0         \n",
            "                                                                 \n",
            " conv1d (Conv1D)             (None, 377, 32)           2336      \n",
            "                                                                 \n",
            " dropout (Dropout)           (None, 377, 32)           0         \n",
            "                                                                 \n",
            " conv1d_1 (Conv1D)           (None, 362, 64)           32832     \n",
            "                                                                 \n",
            " dropout_1 (Dropout)         (None, 362, 64)           0         \n",
            "                                                                 \n",
            " conv1d_2 (Conv1D)           (None, 355, 96)           49248     \n",
            "                                                                 \n",
            " dropout_2 (Dropout)         (None, 355, 96)           0         \n",
            "                                                                 \n",
            " global_max_pooling1d (Globa  (None, 96)               0         \n",
            " lMaxPooling1D)                                                  \n",
            "                                                                 \n",
            " dense_5 (Dense)             (None, 1024)              99328     \n",
            "                                                                 \n",
            " dense_6 (Dense)             (None, 7)                 7175      \n",
            "                                                                 \n",
            " softmax_2 (Softmax)         (None, 7)                 0         \n",
            "                                                                 \n",
            "=================================================================\n",
            "Total params: 190,919\n",
            "Trainable params: 155,751\n",
            "Non-trainable params: 35,168\n",
            "_________________________________________________________________\n"
          ]
        }
      ],
      "source": [
        "full_evaluation_model.summary()"
      ]
    },
    {
      "cell_type": "markdown",
      "metadata": {
        "id": "ohMg5fypP53V"
      },
      "source": [
        "## Extra: t-SNE Plots"
      ]
    },
    {
      "cell_type": "markdown",
      "metadata": {
        "id": "Gk5Lg-8tP53V"
      },
      "source": [
        "### Parameters"
      ]
    },
    {
      "cell_type": "code",
      "execution_count": 121,
      "metadata": {
        "id": "OnIMMgf5P53V"
      },
      "outputs": [],
      "source": [
        "# Select a model from which the intermediate representations are extracted\n",
        "target_model = simclr_model\n",
        "perplexity = 30.0\n"
      ]
    },
    {
      "cell_type": "code",
      "execution_count": 118,
      "metadata": {},
      "outputs": [
        {
          "name": "stdout",
          "output_type": "stream",
          "text": [
            "Model: \"base_model_simclr\"\n",
            "_________________________________________________________________\n",
            " Layer (type)                Output Shape              Param #   \n",
            "=================================================================\n",
            " input (InputLayer)          [(None, 400, 3)]          0         \n",
            "                                                                 \n",
            " conv1d (Conv1D)             (None, 377, 32)           2336      \n",
            "                                                                 \n",
            " dropout (Dropout)           (None, 377, 32)           0         \n",
            "                                                                 \n",
            " conv1d_1 (Conv1D)           (None, 362, 64)           32832     \n",
            "                                                                 \n",
            " dropout_1 (Dropout)         (None, 362, 64)           0         \n",
            "                                                                 \n",
            " conv1d_2 (Conv1D)           (None, 355, 96)           49248     \n",
            "                                                                 \n",
            " dropout_2 (Dropout)         (None, 355, 96)           0         \n",
            "                                                                 \n",
            " global_max_pooling1d (Globa  (None, 96)               0         \n",
            " lMaxPooling1D)                                                  \n",
            "                                                                 \n",
            " dense (Dense)               (None, 256)               24832     \n",
            "                                                                 \n",
            " activation (Activation)     (None, 256)               0         \n",
            "                                                                 \n",
            " dense_1 (Dense)             (None, 128)               32896     \n",
            "                                                                 \n",
            " activation_1 (Activation)   (None, 128)               0         \n",
            "                                                                 \n",
            " dense_2 (Dense)             (None, 50)                6450      \n",
            "                                                                 \n",
            "=================================================================\n",
            "Total params: 148,594\n",
            "Trainable params: 113,426\n",
            "Non-trainable params: 35,168\n",
            "_________________________________________________________________\n"
          ]
        }
      ],
      "source": [
        "simclr_model.summary()"
      ]
    },
    {
      "cell_type": "markdown",
      "metadata": {
        "id": "oRm0pPJRP53V"
      },
      "source": [
        "### t-SNE Representations"
      ]
    },
    {
      "cell_type": "code",
      "execution_count": 44,
      "metadata": {
        "colab": {
          "base_uri": "https://localhost:8080/"
        },
        "id": "EJP3ZM9OP53V",
        "outputId": "3807ffa8-982c-47e5-a7dd-2e4cd1492edf"
      },
      "outputs": [
        {
          "name": "stdout",
          "output_type": "stream",
          "text": [
            "Model: \"base_model_simclr_layer_7\"\n",
            "_________________________________________________________________\n",
            " Layer (type)                Output Shape              Param #   \n",
            "=================================================================\n",
            " input (InputLayer)          [(None, 400, 3)]          0         \n",
            "                                                                 \n",
            " conv1d (Conv1D)             (None, 377, 32)           2336      \n",
            "                                                                 \n",
            " dropout (Dropout)           (None, 377, 32)           0         \n",
            "                                                                 \n",
            " conv1d_1 (Conv1D)           (None, 362, 64)           32832     \n",
            "                                                                 \n",
            " dropout_1 (Dropout)         (None, 362, 64)           0         \n",
            "                                                                 \n",
            " conv1d_2 (Conv1D)           (None, 355, 96)           49248     \n",
            "                                                                 \n",
            " dropout_2 (Dropout)         (None, 355, 96)           0         \n",
            "                                                                 \n",
            " global_max_pooling1d (Globa  (None, 96)               0         \n",
            " lMaxPooling1D)                                                  \n",
            "                                                                 \n",
            "=================================================================\n",
            "Total params: 84,416\n",
            "Trainable params: 49,248\n",
            "Non-trainable params: 35,168\n",
            "_________________________________________________________________\n",
            "3/3 [==============================] - 0s 63ms/step\n",
            "[t-SNE] Computing 91 nearest neighbors...\n",
            "[t-SNE] Indexed 1419 samples in 0.001s...\n",
            "[t-SNE] Computed neighbors for 1419 samples in 1.011s...\n",
            "[t-SNE] Computed conditional probabilities for sample 1000 / 1419\n",
            "[t-SNE] Computed conditional probabilities for sample 1419 / 1419\n",
            "[t-SNE] Mean sigma: 0.384398\n",
            "[t-SNE] KL divergence after 250 iterations with early exaggeration: 49.787445\n",
            "[t-SNE] KL divergence after 1000 iterations: 0.206482\n"
          ]
        }
      ],
      "source": [
        "intermediate_model = simclr_models.extract_intermediate_model_from_base_model(target_model, intermediate_layer=7)\n",
        "intermediate_model.summary()\n",
        "\n",
        "embeddings = intermediate_model.predict(np_test[0], batch_size=600)\n",
        "tsne_model = sklearn.manifold.TSNE(perplexity=perplexity, verbose=1, random_state=42)\n",
        "tsne_projections = tsne_model.fit_transform(embeddings)\n",
        "\n"
      ]
    },
    {
      "cell_type": "markdown",
      "metadata": {
        "id": "lioCbwhKP53W"
      },
      "source": [
        "### Plotting"
      ]
    },
    {
      "cell_type": "code",
      "execution_count": 46,
      "metadata": {
        "colab": {
          "base_uri": "https://localhost:8080/",
          "height": 585
        },
        "id": "M6R-sUCYP53W",
        "outputId": "31147479-0489-4e5e-e182-d9446076b632"
      },
      "outputs": [
        {
          "data": {
            "image/png": "[encoded data removed]",
            "text/plain": [
              "<Figure size 800x400 with 1 Axes>"
            ]
          },
          "metadata": {},
          "output_type": "display_data"
        }
      ],
      "source": [
        "labels_argmax = np.argmax(np_test[1], axis=1)\n",
        "unique_labels = np.unique(labels_argmax)\n",
        "\n",
        "plt.figure(figsize=(8,4))\n",
        "graph = sns.scatterplot(\n",
        "    x=tsne_projections[:,0], y=tsne_projections[:,1],\n",
        "    hue=labels_argmax,\n",
        "    palette=sns.color_palette(\"hsv\", len(unique_labels)),\n",
        "    s=50,\n",
        "    alpha=1.0,\n",
        "    rasterized=True\n",
        ")\n",
        "plt.xticks([], [])\n",
        "plt.yticks([], [])\n",
        "\n",
        "\n",
        "plt.legend(loc='lower left', bbox_to_anchor=(0.25, -0.3), ncol=2)\n",
        "legend = graph.legend_\n",
        "for j, label in enumerate(unique_labels):\n",
        "    legend.get_texts()[j].set_text(label_list_full_name[label])"
      ]
    },
    {
      "cell_type": "markdown",
      "metadata": {
        "id": "SAiOv0b8P53W"
      },
      "source": [
        "### Custom Color maps (Optional)\n",
        "\n",
        "This section can be run to produce plots where semantically similar classes share similar colors. This requires the definition of a custom mapping of classes to colors."
      ]
    },
    {
      "cell_type": "code",
      "execution_count": null,
      "metadata": {
        "id": "c-_R4GFAP53W"
      },
      "outputs": [],
      "source": [
        "# This is used to select colors for labels which are close to each other\n",
        "# Each pair corresponds to one label class\n",
        "# i.e. ['null', 'sitting', 'standing', 'walking', 'walking upstairs', 'walking downstairs', 'jogging']\n",
        "# The first number determines the color map, and the second determines its value along the color map\n",
        "# So 'sitting', 'standing' will share similar colors, and 'walking', 'walking upstairs', 'walking downstairs' will share another set of similar colors\n",
        "label_color_spectrum = [(0, 0), (1, 0), (1, 1), (2, 0), (2, 1), (2, 2), (3, 0)]\n",
        "\n",
        "# This step generates a list of colors for different categories of activities\n",
        "# Here we assume 5 categories, and 5 different intesities within each category\n",
        "major_colors = ['cool', 'Blues', 'Greens', 'Oranges', 'Purples']\n",
        "color_map_base = dict (\n",
        "    [((i, j), color) for i, major_color in enumerate(major_colors) for j, color in enumerate(reversed(sns.color_palette(major_color, 5))) ]\n",
        ")\n",
        "color_palette = np.array([color_map_base[color_index] for color_index in label_color_spectrum])"
      ]
    },
    {
      "cell_type": "code",
      "execution_count": null,
      "metadata": {
        "colab": {
          "base_uri": "https://localhost:8080/",
          "height": 585
        },
        "id": "ifVihJbFP53X",
        "outputId": "ea759bf7-d627-443e-9abd-bd1f9cb97203"
      },
      "outputs": [
        {
          "data": {
            "image/png": "[encoded data removed]",
            "text/plain": [
              "<Figure size 1152x576 with 1 Axes>"
            ]
          },
          "metadata": {
            "tags": []
          },
          "output_type": "display_data"
        }
      ],
      "source": [
        "# This selects the appropriate number of colors to be used in the plot\n",
        "labels_argmax = np.argmax(np_test[1], axis=1)\n",
        "unique_labels = np.unique(labels_argmax)\n",
        "\n",
        "plt.figure(figsize=(16,8))\n",
        "graph = sns.scatterplot(\n",
        "    x=tsne_projections[:,0], y=tsne_projections[:,1],\n",
        "    hue=labels_argmax,\n",
        "    palette=list(color_palette[unique_labels]),\n",
        "    s=50,\n",
        "    alpha=1.0,\n",
        "    rasterized=True\n",
        ")\n",
        "plt.xticks([], [])\n",
        "plt.yticks([], [])\n",
        "\n",
        "\n",
        "plt.legend(loc='lower left', bbox_to_anchor=(0.25, -0.3), ncol=2)\n",
        "legend = graph.legend_\n",
        "for j, label in enumerate(unique_labels):\n",
        "    legend.get_texts()[j].set_text(label_list_full_name[label])\n"
      ]
    },
    {
      "cell_type": "code",
      "execution_count": null,
      "metadata": {
        "id": "rvGEU5UAP53X"
      },
      "outputs": [],
      "source": []
    }
  ],
  "metadata": {
    "accelerator": "GPU",
    "colab": {
      "name": "SimCLR_MotionSense.ipynb",
      "provenance": [],
      "toc_visible": true
    },
    "kernelspec": {
      "display_name": "tensor",
      "language": "python",
      "name": "python3"
    },
    "language_info": {
      "codemirror_mode": {
        "name": "ipython",
        "version": 3
      },
      "file_extension": ".py",
      "mimetype": "text/x-python",
      "name": "python",
      "nbconvert_exporter": "python",
      "pygments_lexer": "ipython3",
      "version": "3.9.16"
    },
    "orig_nbformat": 2,
    "vscode": {
      "interpreter": {
        "hash": "56f3d12ec79672576a8f3528eeda7bf3b741038583acc0f74395f426193a5d5e"
      }
    }
  },
  "nbformat": 4,
  "nbformat_minor": 0
}
